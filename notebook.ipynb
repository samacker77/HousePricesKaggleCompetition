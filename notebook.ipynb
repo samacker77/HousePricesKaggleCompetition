{
 "cells": [
  {
   "cell_type": "markdown",
   "metadata": {},
   "source": [
    "## House Prices : Advanced Regression Techniques"
   ]
  },
  {
   "cell_type": "code",
   "execution_count": 186,
   "metadata": {},
   "outputs": [],
   "source": [
    "#import libraries\n",
    "import pandas as pd\n",
    "import numpy as np\n",
    "import os\n",
    "import matplotlib.pyplot as plt\n",
    "import seaborn as sns\n",
    "from dython.nominal import theils_u"
   ]
  },
  {
   "cell_type": "code",
   "execution_count": 187,
   "metadata": {},
   "outputs": [],
   "source": [
    "#define parent data path\n",
    "data_parent_path='data'"
   ]
  },
  {
   "cell_type": "code",
   "execution_count": 188,
   "metadata": {},
   "outputs": [],
   "source": [
    "#read train and test data\n",
    "train_data=pd.read_csv(os.path.join(data_parent_path,'train.csv'))\n",
    "test_data=pd.read_csv(os.path.join(data_parent_path,'test.csv'))"
   ]
  },
  {
   "cell_type": "code",
   "execution_count": 189,
   "metadata": {},
   "outputs": [
    {
     "data": {
      "text/html": [
       "<div>\n",
       "<style scoped>\n",
       "    .dataframe tbody tr th:only-of-type {\n",
       "        vertical-align: middle;\n",
       "    }\n",
       "\n",
       "    .dataframe tbody tr th {\n",
       "        vertical-align: top;\n",
       "    }\n",
       "\n",
       "    .dataframe thead th {\n",
       "        text-align: right;\n",
       "    }\n",
       "</style>\n",
       "<table border=\"1\" class=\"dataframe\">\n",
       "  <thead>\n",
       "    <tr style=\"text-align: right;\">\n",
       "      <th></th>\n",
       "      <th>Id</th>\n",
       "      <th>MSSubClass</th>\n",
       "      <th>MSZoning</th>\n",
       "      <th>LotFrontage</th>\n",
       "      <th>LotArea</th>\n",
       "      <th>Street</th>\n",
       "      <th>Alley</th>\n",
       "      <th>LotShape</th>\n",
       "      <th>LandContour</th>\n",
       "      <th>Utilities</th>\n",
       "      <th>...</th>\n",
       "      <th>PoolArea</th>\n",
       "      <th>PoolQC</th>\n",
       "      <th>Fence</th>\n",
       "      <th>MiscFeature</th>\n",
       "      <th>MiscVal</th>\n",
       "      <th>MoSold</th>\n",
       "      <th>YrSold</th>\n",
       "      <th>SaleType</th>\n",
       "      <th>SaleCondition</th>\n",
       "      <th>SalePrice</th>\n",
       "    </tr>\n",
       "  </thead>\n",
       "  <tbody>\n",
       "    <tr>\n",
       "      <th>0</th>\n",
       "      <td>1</td>\n",
       "      <td>60</td>\n",
       "      <td>RL</td>\n",
       "      <td>65.0</td>\n",
       "      <td>8450</td>\n",
       "      <td>Pave</td>\n",
       "      <td>NaN</td>\n",
       "      <td>Reg</td>\n",
       "      <td>Lvl</td>\n",
       "      <td>AllPub</td>\n",
       "      <td>...</td>\n",
       "      <td>0</td>\n",
       "      <td>NaN</td>\n",
       "      <td>NaN</td>\n",
       "      <td>NaN</td>\n",
       "      <td>0</td>\n",
       "      <td>2</td>\n",
       "      <td>2008</td>\n",
       "      <td>WD</td>\n",
       "      <td>Normal</td>\n",
       "      <td>208500</td>\n",
       "    </tr>\n",
       "    <tr>\n",
       "      <th>1</th>\n",
       "      <td>2</td>\n",
       "      <td>20</td>\n",
       "      <td>RL</td>\n",
       "      <td>80.0</td>\n",
       "      <td>9600</td>\n",
       "      <td>Pave</td>\n",
       "      <td>NaN</td>\n",
       "      <td>Reg</td>\n",
       "      <td>Lvl</td>\n",
       "      <td>AllPub</td>\n",
       "      <td>...</td>\n",
       "      <td>0</td>\n",
       "      <td>NaN</td>\n",
       "      <td>NaN</td>\n",
       "      <td>NaN</td>\n",
       "      <td>0</td>\n",
       "      <td>5</td>\n",
       "      <td>2007</td>\n",
       "      <td>WD</td>\n",
       "      <td>Normal</td>\n",
       "      <td>181500</td>\n",
       "    </tr>\n",
       "    <tr>\n",
       "      <th>2</th>\n",
       "      <td>3</td>\n",
       "      <td>60</td>\n",
       "      <td>RL</td>\n",
       "      <td>68.0</td>\n",
       "      <td>11250</td>\n",
       "      <td>Pave</td>\n",
       "      <td>NaN</td>\n",
       "      <td>IR1</td>\n",
       "      <td>Lvl</td>\n",
       "      <td>AllPub</td>\n",
       "      <td>...</td>\n",
       "      <td>0</td>\n",
       "      <td>NaN</td>\n",
       "      <td>NaN</td>\n",
       "      <td>NaN</td>\n",
       "      <td>0</td>\n",
       "      <td>9</td>\n",
       "      <td>2008</td>\n",
       "      <td>WD</td>\n",
       "      <td>Normal</td>\n",
       "      <td>223500</td>\n",
       "    </tr>\n",
       "    <tr>\n",
       "      <th>3</th>\n",
       "      <td>4</td>\n",
       "      <td>70</td>\n",
       "      <td>RL</td>\n",
       "      <td>60.0</td>\n",
       "      <td>9550</td>\n",
       "      <td>Pave</td>\n",
       "      <td>NaN</td>\n",
       "      <td>IR1</td>\n",
       "      <td>Lvl</td>\n",
       "      <td>AllPub</td>\n",
       "      <td>...</td>\n",
       "      <td>0</td>\n",
       "      <td>NaN</td>\n",
       "      <td>NaN</td>\n",
       "      <td>NaN</td>\n",
       "      <td>0</td>\n",
       "      <td>2</td>\n",
       "      <td>2006</td>\n",
       "      <td>WD</td>\n",
       "      <td>Abnorml</td>\n",
       "      <td>140000</td>\n",
       "    </tr>\n",
       "    <tr>\n",
       "      <th>4</th>\n",
       "      <td>5</td>\n",
       "      <td>60</td>\n",
       "      <td>RL</td>\n",
       "      <td>84.0</td>\n",
       "      <td>14260</td>\n",
       "      <td>Pave</td>\n",
       "      <td>NaN</td>\n",
       "      <td>IR1</td>\n",
       "      <td>Lvl</td>\n",
       "      <td>AllPub</td>\n",
       "      <td>...</td>\n",
       "      <td>0</td>\n",
       "      <td>NaN</td>\n",
       "      <td>NaN</td>\n",
       "      <td>NaN</td>\n",
       "      <td>0</td>\n",
       "      <td>12</td>\n",
       "      <td>2008</td>\n",
       "      <td>WD</td>\n",
       "      <td>Normal</td>\n",
       "      <td>250000</td>\n",
       "    </tr>\n",
       "  </tbody>\n",
       "</table>\n",
       "<p>5 rows × 81 columns</p>\n",
       "</div>"
      ],
      "text/plain": [
       "   Id  MSSubClass MSZoning  LotFrontage  LotArea Street Alley LotShape  \\\n",
       "0   1          60       RL         65.0     8450   Pave   NaN      Reg   \n",
       "1   2          20       RL         80.0     9600   Pave   NaN      Reg   \n",
       "2   3          60       RL         68.0    11250   Pave   NaN      IR1   \n",
       "3   4          70       RL         60.0     9550   Pave   NaN      IR1   \n",
       "4   5          60       RL         84.0    14260   Pave   NaN      IR1   \n",
       "\n",
       "  LandContour Utilities  ... PoolArea PoolQC Fence MiscFeature MiscVal MoSold  \\\n",
       "0         Lvl    AllPub  ...        0    NaN   NaN         NaN       0      2   \n",
       "1         Lvl    AllPub  ...        0    NaN   NaN         NaN       0      5   \n",
       "2         Lvl    AllPub  ...        0    NaN   NaN         NaN       0      9   \n",
       "3         Lvl    AllPub  ...        0    NaN   NaN         NaN       0      2   \n",
       "4         Lvl    AllPub  ...        0    NaN   NaN         NaN       0     12   \n",
       "\n",
       "  YrSold  SaleType  SaleCondition  SalePrice  \n",
       "0   2008        WD         Normal     208500  \n",
       "1   2007        WD         Normal     181500  \n",
       "2   2008        WD         Normal     223500  \n",
       "3   2006        WD        Abnorml     140000  \n",
       "4   2008        WD         Normal     250000  \n",
       "\n",
       "[5 rows x 81 columns]"
      ]
     },
     "execution_count": 189,
     "metadata": {},
     "output_type": "execute_result"
    }
   ],
   "source": [
    "#print first 5 rows of train data\n",
    "train_data.head()"
   ]
  },
  {
   "cell_type": "code",
   "execution_count": 190,
   "metadata": {},
   "outputs": [
    {
     "data": {
      "text/html": [
       "<div>\n",
       "<style scoped>\n",
       "    .dataframe tbody tr th:only-of-type {\n",
       "        vertical-align: middle;\n",
       "    }\n",
       "\n",
       "    .dataframe tbody tr th {\n",
       "        vertical-align: top;\n",
       "    }\n",
       "\n",
       "    .dataframe thead th {\n",
       "        text-align: right;\n",
       "    }\n",
       "</style>\n",
       "<table border=\"1\" class=\"dataframe\">\n",
       "  <thead>\n",
       "    <tr style=\"text-align: right;\">\n",
       "      <th></th>\n",
       "      <th>Id</th>\n",
       "      <th>MSSubClass</th>\n",
       "      <th>MSZoning</th>\n",
       "      <th>LotFrontage</th>\n",
       "      <th>LotArea</th>\n",
       "      <th>Street</th>\n",
       "      <th>Alley</th>\n",
       "      <th>LotShape</th>\n",
       "      <th>LandContour</th>\n",
       "      <th>Utilities</th>\n",
       "      <th>...</th>\n",
       "      <th>ScreenPorch</th>\n",
       "      <th>PoolArea</th>\n",
       "      <th>PoolQC</th>\n",
       "      <th>Fence</th>\n",
       "      <th>MiscFeature</th>\n",
       "      <th>MiscVal</th>\n",
       "      <th>MoSold</th>\n",
       "      <th>YrSold</th>\n",
       "      <th>SaleType</th>\n",
       "      <th>SaleCondition</th>\n",
       "    </tr>\n",
       "  </thead>\n",
       "  <tbody>\n",
       "    <tr>\n",
       "      <th>0</th>\n",
       "      <td>1461</td>\n",
       "      <td>20</td>\n",
       "      <td>RH</td>\n",
       "      <td>80.0</td>\n",
       "      <td>11622</td>\n",
       "      <td>Pave</td>\n",
       "      <td>NaN</td>\n",
       "      <td>Reg</td>\n",
       "      <td>Lvl</td>\n",
       "      <td>AllPub</td>\n",
       "      <td>...</td>\n",
       "      <td>120</td>\n",
       "      <td>0</td>\n",
       "      <td>NaN</td>\n",
       "      <td>MnPrv</td>\n",
       "      <td>NaN</td>\n",
       "      <td>0</td>\n",
       "      <td>6</td>\n",
       "      <td>2010</td>\n",
       "      <td>WD</td>\n",
       "      <td>Normal</td>\n",
       "    </tr>\n",
       "    <tr>\n",
       "      <th>1</th>\n",
       "      <td>1462</td>\n",
       "      <td>20</td>\n",
       "      <td>RL</td>\n",
       "      <td>81.0</td>\n",
       "      <td>14267</td>\n",
       "      <td>Pave</td>\n",
       "      <td>NaN</td>\n",
       "      <td>IR1</td>\n",
       "      <td>Lvl</td>\n",
       "      <td>AllPub</td>\n",
       "      <td>...</td>\n",
       "      <td>0</td>\n",
       "      <td>0</td>\n",
       "      <td>NaN</td>\n",
       "      <td>NaN</td>\n",
       "      <td>Gar2</td>\n",
       "      <td>12500</td>\n",
       "      <td>6</td>\n",
       "      <td>2010</td>\n",
       "      <td>WD</td>\n",
       "      <td>Normal</td>\n",
       "    </tr>\n",
       "    <tr>\n",
       "      <th>2</th>\n",
       "      <td>1463</td>\n",
       "      <td>60</td>\n",
       "      <td>RL</td>\n",
       "      <td>74.0</td>\n",
       "      <td>13830</td>\n",
       "      <td>Pave</td>\n",
       "      <td>NaN</td>\n",
       "      <td>IR1</td>\n",
       "      <td>Lvl</td>\n",
       "      <td>AllPub</td>\n",
       "      <td>...</td>\n",
       "      <td>0</td>\n",
       "      <td>0</td>\n",
       "      <td>NaN</td>\n",
       "      <td>MnPrv</td>\n",
       "      <td>NaN</td>\n",
       "      <td>0</td>\n",
       "      <td>3</td>\n",
       "      <td>2010</td>\n",
       "      <td>WD</td>\n",
       "      <td>Normal</td>\n",
       "    </tr>\n",
       "    <tr>\n",
       "      <th>3</th>\n",
       "      <td>1464</td>\n",
       "      <td>60</td>\n",
       "      <td>RL</td>\n",
       "      <td>78.0</td>\n",
       "      <td>9978</td>\n",
       "      <td>Pave</td>\n",
       "      <td>NaN</td>\n",
       "      <td>IR1</td>\n",
       "      <td>Lvl</td>\n",
       "      <td>AllPub</td>\n",
       "      <td>...</td>\n",
       "      <td>0</td>\n",
       "      <td>0</td>\n",
       "      <td>NaN</td>\n",
       "      <td>NaN</td>\n",
       "      <td>NaN</td>\n",
       "      <td>0</td>\n",
       "      <td>6</td>\n",
       "      <td>2010</td>\n",
       "      <td>WD</td>\n",
       "      <td>Normal</td>\n",
       "    </tr>\n",
       "    <tr>\n",
       "      <th>4</th>\n",
       "      <td>1465</td>\n",
       "      <td>120</td>\n",
       "      <td>RL</td>\n",
       "      <td>43.0</td>\n",
       "      <td>5005</td>\n",
       "      <td>Pave</td>\n",
       "      <td>NaN</td>\n",
       "      <td>IR1</td>\n",
       "      <td>HLS</td>\n",
       "      <td>AllPub</td>\n",
       "      <td>...</td>\n",
       "      <td>144</td>\n",
       "      <td>0</td>\n",
       "      <td>NaN</td>\n",
       "      <td>NaN</td>\n",
       "      <td>NaN</td>\n",
       "      <td>0</td>\n",
       "      <td>1</td>\n",
       "      <td>2010</td>\n",
       "      <td>WD</td>\n",
       "      <td>Normal</td>\n",
       "    </tr>\n",
       "  </tbody>\n",
       "</table>\n",
       "<p>5 rows × 80 columns</p>\n",
       "</div>"
      ],
      "text/plain": [
       "     Id  MSSubClass MSZoning  LotFrontage  LotArea Street Alley LotShape  \\\n",
       "0  1461          20       RH         80.0    11622   Pave   NaN      Reg   \n",
       "1  1462          20       RL         81.0    14267   Pave   NaN      IR1   \n",
       "2  1463          60       RL         74.0    13830   Pave   NaN      IR1   \n",
       "3  1464          60       RL         78.0     9978   Pave   NaN      IR1   \n",
       "4  1465         120       RL         43.0     5005   Pave   NaN      IR1   \n",
       "\n",
       "  LandContour Utilities  ... ScreenPorch PoolArea PoolQC  Fence MiscFeature  \\\n",
       "0         Lvl    AllPub  ...         120        0    NaN  MnPrv         NaN   \n",
       "1         Lvl    AllPub  ...           0        0    NaN    NaN        Gar2   \n",
       "2         Lvl    AllPub  ...           0        0    NaN  MnPrv         NaN   \n",
       "3         Lvl    AllPub  ...           0        0    NaN    NaN         NaN   \n",
       "4         HLS    AllPub  ...         144        0    NaN    NaN         NaN   \n",
       "\n",
       "  MiscVal MoSold  YrSold  SaleType  SaleCondition  \n",
       "0       0      6    2010        WD         Normal  \n",
       "1   12500      6    2010        WD         Normal  \n",
       "2       0      3    2010        WD         Normal  \n",
       "3       0      6    2010        WD         Normal  \n",
       "4       0      1    2010        WD         Normal  \n",
       "\n",
       "[5 rows x 80 columns]"
      ]
     },
     "execution_count": 190,
     "metadata": {},
     "output_type": "execute_result"
    }
   ],
   "source": [
    "#print first 5 rows of test data\n",
    "test_data.head()"
   ]
  },
  {
   "cell_type": "code",
   "execution_count": 191,
   "metadata": {},
   "outputs": [
    {
     "name": "stdout",
     "output_type": "stream",
     "text": [
      "Train data has 1460 rows and 81 columns\n",
      "Test data has 1459 rows and 80 columns\n"
     ]
    }
   ],
   "source": [
    "#print shape of train and test data\n",
    "print(\"Train data has {} rows and {} columns\".format(train_data.shape[0],train_data.shape[1]))\n",
    "print(\"Test data has {} rows and {} columns\".format(test_data.shape[0],test_data.shape[1]))"
   ]
  },
  {
   "cell_type": "code",
   "execution_count": 192,
   "metadata": {},
   "outputs": [
    {
     "name": "stdout",
     "output_type": "stream",
     "text": [
      "Index(['Id', 'MSSubClass', 'MSZoning', 'LotFrontage', 'LotArea', 'Street',\n",
      "       'Alley', 'LotShape', 'LandContour', 'Utilities', 'LotConfig',\n",
      "       'LandSlope', 'Neighborhood', 'Condition1', 'Condition2', 'BldgType',\n",
      "       'HouseStyle', 'OverallQual', 'OverallCond', 'YearBuilt', 'YearRemodAdd',\n",
      "       'RoofStyle', 'RoofMatl', 'Exterior1st', 'Exterior2nd', 'MasVnrType',\n",
      "       'MasVnrArea', 'ExterQual', 'ExterCond', 'Foundation', 'BsmtQual',\n",
      "       'BsmtCond', 'BsmtExposure', 'BsmtFinType1', 'BsmtFinSF1',\n",
      "       'BsmtFinType2', 'BsmtFinSF2', 'BsmtUnfSF', 'TotalBsmtSF', 'Heating',\n",
      "       'HeatingQC', 'CentralAir', 'Electrical', '1stFlrSF', '2ndFlrSF',\n",
      "       'LowQualFinSF', 'GrLivArea', 'BsmtFullBath', 'BsmtHalfBath', 'FullBath',\n",
      "       'HalfBath', 'BedroomAbvGr', 'KitchenAbvGr', 'KitchenQual',\n",
      "       'TotRmsAbvGrd', 'Functional', 'Fireplaces', 'FireplaceQu', 'GarageType',\n",
      "       'GarageYrBlt', 'GarageFinish', 'GarageCars', 'GarageArea', 'GarageQual',\n",
      "       'GarageCond', 'PavedDrive', 'WoodDeckSF', 'OpenPorchSF',\n",
      "       'EnclosedPorch', '3SsnPorch', 'ScreenPorch', 'PoolArea', 'PoolQC',\n",
      "       'Fence', 'MiscFeature', 'MiscVal', 'MoSold', 'YrSold', 'SaleType',\n",
      "       'SaleCondition', 'SalePrice'],\n",
      "      dtype='object')\n",
      "--------------------------------------------------------------------------\n",
      "Index(['Id', 'MSSubClass', 'MSZoning', 'LotFrontage', 'LotArea', 'Street',\n",
      "       'Alley', 'LotShape', 'LandContour', 'Utilities', 'LotConfig',\n",
      "       'LandSlope', 'Neighborhood', 'Condition1', 'Condition2', 'BldgType',\n",
      "       'HouseStyle', 'OverallQual', 'OverallCond', 'YearBuilt', 'YearRemodAdd',\n",
      "       'RoofStyle', 'RoofMatl', 'Exterior1st', 'Exterior2nd', 'MasVnrType',\n",
      "       'MasVnrArea', 'ExterQual', 'ExterCond', 'Foundation', 'BsmtQual',\n",
      "       'BsmtCond', 'BsmtExposure', 'BsmtFinType1', 'BsmtFinSF1',\n",
      "       'BsmtFinType2', 'BsmtFinSF2', 'BsmtUnfSF', 'TotalBsmtSF', 'Heating',\n",
      "       'HeatingQC', 'CentralAir', 'Electrical', '1stFlrSF', '2ndFlrSF',\n",
      "       'LowQualFinSF', 'GrLivArea', 'BsmtFullBath', 'BsmtHalfBath', 'FullBath',\n",
      "       'HalfBath', 'BedroomAbvGr', 'KitchenAbvGr', 'KitchenQual',\n",
      "       'TotRmsAbvGrd', 'Functional', 'Fireplaces', 'FireplaceQu', 'GarageType',\n",
      "       'GarageYrBlt', 'GarageFinish', 'GarageCars', 'GarageArea', 'GarageQual',\n",
      "       'GarageCond', 'PavedDrive', 'WoodDeckSF', 'OpenPorchSF',\n",
      "       'EnclosedPorch', '3SsnPorch', 'ScreenPorch', 'PoolArea', 'PoolQC',\n",
      "       'Fence', 'MiscFeature', 'MiscVal', 'MoSold', 'YrSold', 'SaleType',\n",
      "       'SaleCondition'],\n",
      "      dtype='object')\n"
     ]
    }
   ],
   "source": [
    "#print column names of train and test data\n",
    "print(train_data.columns)\n",
    "print(\"--------------------------------------------------------------------------\")\n",
    "print(test_data.columns)"
   ]
  },
  {
   "cell_type": "code",
   "execution_count": 193,
   "metadata": {},
   "outputs": [
    {
     "data": {
      "text/plain": [
       "Id                 int64\n",
       "MSSubClass         int64\n",
       "MSZoning          object\n",
       "LotFrontage      float64\n",
       "LotArea            int64\n",
       "Street            object\n",
       "Alley             object\n",
       "LotShape          object\n",
       "LandContour       object\n",
       "Utilities         object\n",
       "LotConfig         object\n",
       "LandSlope         object\n",
       "Neighborhood      object\n",
       "Condition1        object\n",
       "Condition2        object\n",
       "BldgType          object\n",
       "HouseStyle        object\n",
       "OverallQual        int64\n",
       "OverallCond        int64\n",
       "YearBuilt          int64\n",
       "YearRemodAdd       int64\n",
       "RoofStyle         object\n",
       "RoofMatl          object\n",
       "Exterior1st       object\n",
       "Exterior2nd       object\n",
       "MasVnrType        object\n",
       "MasVnrArea       float64\n",
       "ExterQual         object\n",
       "ExterCond         object\n",
       "Foundation        object\n",
       "                  ...   \n",
       "BedroomAbvGr       int64\n",
       "KitchenAbvGr       int64\n",
       "KitchenQual       object\n",
       "TotRmsAbvGrd       int64\n",
       "Functional        object\n",
       "Fireplaces         int64\n",
       "FireplaceQu       object\n",
       "GarageType        object\n",
       "GarageYrBlt      float64\n",
       "GarageFinish      object\n",
       "GarageCars         int64\n",
       "GarageArea         int64\n",
       "GarageQual        object\n",
       "GarageCond        object\n",
       "PavedDrive        object\n",
       "WoodDeckSF         int64\n",
       "OpenPorchSF        int64\n",
       "EnclosedPorch      int64\n",
       "3SsnPorch          int64\n",
       "ScreenPorch        int64\n",
       "PoolArea           int64\n",
       "PoolQC            object\n",
       "Fence             object\n",
       "MiscFeature       object\n",
       "MiscVal            int64\n",
       "MoSold             int64\n",
       "YrSold             int64\n",
       "SaleType          object\n",
       "SaleCondition     object\n",
       "SalePrice          int64\n",
       "Length: 81, dtype: object"
      ]
     },
     "execution_count": 193,
     "metadata": {},
     "output_type": "execute_result"
    }
   ],
   "source": [
    "#print dtypes of all columns of train data\n",
    "train_data.dtypes"
   ]
  },
  {
   "cell_type": "code",
   "execution_count": 194,
   "metadata": {},
   "outputs": [
    {
     "name": "stdout",
     "output_type": "stream",
     "text": [
      "Index(['MSZoning', 'Street', 'Alley', 'LotShape', 'LandContour', 'Utilities',\n",
      "       'LotConfig', 'LandSlope', 'Neighborhood', 'Condition1', 'Condition2',\n",
      "       'BldgType', 'HouseStyle', 'RoofStyle', 'RoofMatl', 'Exterior1st',\n",
      "       'Exterior2nd', 'MasVnrType', 'ExterQual', 'ExterCond', 'Foundation',\n",
      "       'BsmtQual', 'BsmtCond', 'BsmtExposure', 'BsmtFinType1', 'BsmtFinType2',\n",
      "       'Heating', 'HeatingQC', 'CentralAir', 'Electrical', 'KitchenQual',\n",
      "       'Functional', 'FireplaceQu', 'GarageType', 'GarageFinish', 'GarageQual',\n",
      "       'GarageCond', 'PavedDrive', 'PoolQC', 'Fence', 'MiscFeature',\n",
      "       'SaleType', 'SaleCondition'],\n",
      "      dtype='object')\n",
      "\n",
      "Total Columns with Non-numeric data = 43\n"
     ]
    }
   ],
   "source": [
    "#print names and length of categorical columns in train data\n",
    "print(train_data.select_dtypes(include='object').columns)\n",
    "print( )\n",
    "non_numeric_cols = len(train_data.select_dtypes(include='object').columns)\n",
    "print(\"Total Columns with Non-numeric data = {}\".format(non_numeric_cols))"
   ]
  },
  {
   "cell_type": "code",
   "execution_count": 195,
   "metadata": {},
   "outputs": [
    {
     "name": "stdout",
     "output_type": "stream",
     "text": [
      "Index(['Id', 'MSSubClass', 'LotFrontage', 'LotArea', 'OverallQual',\n",
      "       'OverallCond', 'YearBuilt', 'YearRemodAdd', 'MasVnrArea', 'BsmtFinSF1',\n",
      "       'BsmtFinSF2', 'BsmtUnfSF', 'TotalBsmtSF', '1stFlrSF', '2ndFlrSF',\n",
      "       'LowQualFinSF', 'GrLivArea', 'BsmtFullBath', 'BsmtHalfBath', 'FullBath',\n",
      "       'HalfBath', 'BedroomAbvGr', 'KitchenAbvGr', 'TotRmsAbvGrd',\n",
      "       'Fireplaces', 'GarageYrBlt', 'GarageCars', 'GarageArea', 'WoodDeckSF',\n",
      "       'OpenPorchSF', 'EnclosedPorch', '3SsnPorch', 'ScreenPorch', 'PoolArea',\n",
      "       'MiscVal', 'MoSold', 'YrSold', 'SalePrice'],\n",
      "      dtype='object')\n",
      "\n",
      "Total Columns with numeric data = 38\n"
     ]
    }
   ],
   "source": [
    "#print names and length of numerical columns in train data\n",
    "print(train_data.select_dtypes(include=['int','float']).columns)\n",
    "print( )\n",
    "numeric_cols = len(train_data.select_dtypes(include=['int','float']).columns)\n",
    "print(\"Total Columns with numeric data = {}\".format(numeric_cols))"
   ]
  },
  {
   "cell_type": "code",
   "execution_count": 196,
   "metadata": {},
   "outputs": [
    {
     "data": {
      "text/plain": [
       "<matplotlib.axes._subplots.AxesSubplot at 0x7f24f96b0690>"
      ]
     },
     "execution_count": 196,
     "metadata": {},
     "output_type": "execute_result"
    },
    {
     "data": {
      "image/png": "[encoded data removed]",
      "text/plain": [
       "<Figure size 432x288 with 1 Axes>"
      ]
     },
     "metadata": {
      "needs_background": "light"
     },
     "output_type": "display_data"
    }
   ],
   "source": [
    "#plot total number of null values in numerical columns in train data\n",
    "missing_values_info=train_data.select_dtypes(include=['int','float']).isna().sum()\n",
    "missing_values_info=missing_values_info[missing_values_info>0]\n",
    "sns.barplot(missing_values_info.index.values,missing_values_info)"
   ]
  },
  {
   "cell_type": "code",
   "execution_count": 197,
   "metadata": {},
   "outputs": [
    {
     "data": {
      "text/plain": [
       "<matplotlib.axes._subplots.AxesSubplot at 0x7f24f9662950>"
      ]
     },
     "execution_count": 197,
     "metadata": {},
     "output_type": "execute_result"
    },
    {
     "data": {
      "image/png": "[encoded data removed]",
      "text/plain": [
       "<Figure size 1152x360 with 1 Axes>"
      ]
     },
     "metadata": {
      "needs_background": "light"
     },
     "output_type": "display_data"
    }
   ],
   "source": [
    "#plot total number of null values in numerical columns in test data\n",
    "missing_values_info=test_data.select_dtypes(include=['int','float']).isna().sum()\n",
    "missing_values_info=missing_values_info[missing_values_info>0]\n",
    "plt.figure(figsize=(16,5))\n",
    "sns.barplot(missing_values_info.index.values,missing_values_info)"
   ]
  },
  {
   "cell_type": "code",
   "execution_count": 198,
   "metadata": {},
   "outputs": [
    {
     "name": "stdout",
     "output_type": "stream",
     "text": [
      "Missing vaues in lot frontage before imputation: 259\n",
      "Missing vaues in lot frontage after imputation: 0\n"
     ]
    }
   ],
   "source": [
    "#impute lot frontage with mean strategy in train data\n",
    "print(\"Missing vaues in lot frontage before imputation:\",train_data['LotFrontage'].isna().sum())\n",
    "train_data['LotFrontage']=train_data['LotFrontage'].fillna(train_data['LotFrontage'].mean())\n",
    "print(\"Missing vaues in lot frontage after imputation:\",train_data['LotFrontage'].isna().sum())"
   ]
  },
  {
   "cell_type": "code",
   "execution_count": 199,
   "metadata": {},
   "outputs": [
    {
     "name": "stdout",
     "output_type": "stream",
     "text": [
      "Missing vaues in lot frontage before imputation: 227\n",
      "Missing vaues in lot frontage after imputation: 0\n"
     ]
    }
   ],
   "source": [
    "#impute lot frontage with mean strategy in test data\n",
    "print(\"Missing vaues in lot frontage before imputation:\",test_data['LotFrontage'].isna().sum())\n",
    "test_data['LotFrontage']=test_data['LotFrontage'].fillna(test_data['LotFrontage'].mean())\n",
    "print(\"Missing vaues in lot frontage after imputation:\",test_data['LotFrontage'].isna().sum())"
   ]
  },
  {
   "cell_type": "code",
   "execution_count": 200,
   "metadata": {},
   "outputs": [
    {
     "data": {
      "text/plain": [
       "<matplotlib.axes._subplots.AxesSubplot at 0x7f24f95b0750>"
      ]
     },
     "execution_count": 200,
     "metadata": {},
     "output_type": "execute_result"
    },
    {
     "data": {
      "image/png": "[encoded data removed]",
      "text/plain": [
       "<Figure size 432x288 with 1 Axes>"
      ]
     },
     "metadata": {
      "needs_background": "light"
     },
     "output_type": "display_data"
    }
   ],
   "source": [
    "#plot reg plot between target variable and MasVnrArea\n",
    "sns.regplot(x=train_data['MasVnrArea'],y=train_data['SalePrice'])\n",
    "#since SalePrice and MasVnrArea have strong positive correlation we will not drop it"
   ]
  },
  {
   "cell_type": "code",
   "execution_count": 201,
   "metadata": {},
   "outputs": [
    {
     "name": "stdout",
     "output_type": "stream",
     "text": [
      "Missing vaues in MasVnrArea before imputation: 8\n",
      "Missing vaues in MasVnrArea after imputation: 0\n"
     ]
    }
   ],
   "source": [
    "#fill null values in MasVnrArea with 0.0 in train data\n",
    "print(\"Missing vaues in MasVnrArea before imputation:\",train_data['MasVnrArea'].isna().sum())\n",
    "train_data['MasVnrArea']=train_data['MasVnrArea'].fillna(train_data['MasVnrArea'].mode()[0])\n",
    "print(\"Missing vaues in MasVnrArea after imputation:\",train_data['MasVnrArea'].isna().sum())"
   ]
  },
  {
   "cell_type": "code",
   "execution_count": 202,
   "metadata": {},
   "outputs": [
    {
     "name": "stdout",
     "output_type": "stream",
     "text": [
      "Missing vaues in MasVnrArea before imputation: 15\n",
      "Missing vaues in MasVnrArea after imputation: 0\n"
     ]
    }
   ],
   "source": [
    "\n",
    "#fill null values in MasVnrArea with 0.0 in test data\n",
    "print(\"Missing vaues in MasVnrArea before imputation:\",test_data['MasVnrArea'].isna().sum())\n",
    "test_data['MasVnrArea']=test_data['MasVnrArea'].fillna(test_data['MasVnrArea'].mode()[0])\n",
    "print(\"Missing vaues in MasVnrArea after imputation:\",test_data['MasVnrArea'].isna().sum())"
   ]
  },
  {
   "cell_type": "code",
   "execution_count": 203,
   "metadata": {
    "scrolled": true
   },
   "outputs": [
    {
     "data": {
      "text/plain": [
       "<matplotlib.axes._subplots.AxesSubplot at 0x7f24f94fe290>"
      ]
     },
     "execution_count": 203,
     "metadata": {},
     "output_type": "execute_result"
    },
    {
     "data": {
      "image/png": "[encoded data removed]",
      "text/plain": [
       "<Figure size 432x288 with 1 Axes>"
      ]
     },
     "metadata": {
      "needs_background": "light"
     },
     "output_type": "display_data"
    }
   ],
   "source": [
    "#plot reg plot between target variable and GarageYrBtl\n",
    "sns.regplot(x=train_data['GarageYrBlt'],y=train_data['SalePrice'])\n",
    "#since GaragreYrBlt and SalePrice have strong positive correlation we will not drop it"
   ]
  },
  {
   "cell_type": "code",
   "execution_count": 204,
   "metadata": {},
   "outputs": [],
   "source": [
    "def replace_year(garageyear,houseyear):\n",
    "    if garageyear< houseyear:\n",
    "        return houseyear\n",
    "    else:\n",
    "        return garageyear"
   ]
  },
  {
   "cell_type": "code",
   "execution_count": 205,
   "metadata": {
    "scrolled": true
   },
   "outputs": [
    {
     "name": "stderr",
     "output_type": "stream",
     "text": [
      "/usr/local/lib/python3.7/site-packages/ipykernel_launcher.py:2: RuntimeWarning: invalid value encountered in greater\n",
      "  \n"
     ]
    },
    {
     "name": "stdout",
     "output_type": "stream",
     "text": [
      "1980.0\n"
     ]
    },
    {
     "data": {
      "text/plain": [
       "<matplotlib.axes._subplots.AxesSubplot at 0x7f24f95a3850>"
      ]
     },
     "execution_count": 205,
     "metadata": {},
     "output_type": "execute_result"
    },
    {
     "data": {
      "image/png": "[encoded data removed]",
      "text/plain": [
       "<Figure size 432x288 with 1 Axes>"
      ]
     },
     "metadata": {
      "needs_background": "light"
     },
     "output_type": "display_data"
    },
    {
     "data": {
      "image/png": "[encoded data removed]",
      "text/plain": [
       "<Figure size 3600x1080 with 1 Axes>"
      ]
     },
     "metadata": {
      "needs_background": "light"
     },
     "output_type": "display_data"
    }
   ],
   "source": [
    "\n",
    "sns.distplot(train_data.GarageYrBlt[train_data['GarageYrBlt'].values>0],hist=True)\n",
    "print(train_data['GarageYrBlt'].median())\n",
    "plt.figure(figsize=(50,15))\n",
    "sns.countplot(train_data['GarageYrBlt'])"
   ]
  },
  {
   "cell_type": "code",
   "execution_count": 208,
   "metadata": {},
   "outputs": [
    {
     "name": "stdout",
     "output_type": "stream",
     "text": [
      "Missing vaues in GarageYrBlt before imputation: 0\n"
     ]
    },
    {
     "name": "stderr",
     "output_type": "stream",
     "text": [
      "/usr/local/lib64/python3.7/site-packages/numpy/lib/nanfunctions.py:1076: RuntimeWarning: Mean of empty slice\n",
      "  return np.nanmean(a, axis, out=out, keepdims=keepdims)\n"
     ]
    },
    {
     "name": "stdout",
     "output_type": "stream",
     "text": [
      "Missing vaues in GarageYrBlt after imputation: 0\n"
     ]
    },
    {
     "name": "stderr",
     "output_type": "stream",
     "text": [
      "/usr/local/lib64/python3.7/site-packages/numpy/lib/nanfunctions.py:1076: RuntimeWarning: Mean of empty slice\n",
      "  return np.nanmean(a, axis, out=out, keepdims=keepdims)\n"
     ]
    }
   ],
   "source": [
    "#fill null values in GarageYrBlt with median acc to neighborhood in train data\n",
    "print(\"Missing vaues in GarageYrBlt before imputation:\",train_data['GarageYrBlt'].isna().sum())\n",
    "train_data.GarageYrBlt.fillna(train_data.groupby(['Neighborhood']).transform('median').GarageYrBlt, inplace=True)\n",
    "#check if Garage is built before House , replace it with year in which house is built\n",
    "train_data['GarageYrBlt']=train_data.apply(lambda x:replace_year(x.GarageYrBlt,x.YearBuilt),axis=1)\n",
    "print(\"Missing vaues in GarageYrBlt after imputation:\",train_data['GarageYrBlt'].isna().sum())"
   ]
  },
  {
   "cell_type": "code",
   "execution_count": 209,
   "metadata": {},
   "outputs": [
    {
     "name": "stdout",
     "output_type": "stream",
     "text": [
      "Missing vaues in GarageYrBlt before imputation: 0\n"
     ]
    },
    {
     "name": "stderr",
     "output_type": "stream",
     "text": [
      "/usr/local/lib64/python3.7/site-packages/numpy/lib/nanfunctions.py:1076: RuntimeWarning: Mean of empty slice\n",
      "  return np.nanmean(a, axis, out=out, keepdims=keepdims)\n"
     ]
    },
    {
     "name": "stdout",
     "output_type": "stream",
     "text": [
      "Missing vaues in GarageYrBlt after imputation: 0\n"
     ]
    },
    {
     "name": "stderr",
     "output_type": "stream",
     "text": [
      "/usr/local/lib64/python3.7/site-packages/numpy/lib/nanfunctions.py:1076: RuntimeWarning: Mean of empty slice\n",
      "  return np.nanmean(a, axis, out=out, keepdims=keepdims)\n"
     ]
    }
   ],
   "source": [
    "#fill null values in GarageYrBlt with median acc to neighborhood in test data\n",
    "print(\"Missing vaues in GarageYrBlt before imputation:\",test_data['GarageYrBlt'].isna().sum())\n",
    "test_data.GarageYrBlt.fillna(test_data.groupby(['Neighborhood']).transform('median').GarageYrBlt, inplace=True)\n",
    "#check if Garage is built before House , replace it with year in which house is built\n",
    "test_data['GarageYrBlt']=test_data.apply(lambda x:replace_year(x.GarageYrBlt,x.YearBuilt),axis=1)\n",
    "print(\"Missing vaues in GarageYrBlt after imputation:\",test_data['GarageYrBlt'].isna().sum())\n",
    "#train_data.groupby(['Neighborhood']).GarageYrBlt.median()\n"
   ]
  },
  {
   "cell_type": "code",
   "execution_count": 210,
   "metadata": {},
   "outputs": [
    {
     "name": "stdout",
     "output_type": "stream",
     "text": [
      "Missing vaues in BsmtFinSF1 before imputation: 1\n",
      "Missing vaues in BsmtFinSF1 after imputation: 0\n"
     ]
    }
   ],
   "source": [
    "\n",
    "#fill null values in BsmtFinSF1 with mode i.e 0.0 in test data\n",
    "print(\"Missing vaues in BsmtFinSF1 before imputation:\",test_data['BsmtFinSF1'].isna().sum())\n",
    "test_data['BsmtFinSF1']=test_data['BsmtFinSF1'].fillna(test_data['BsmtFinSF1'].mode()[0])\n",
    "print(\"Missing vaues in BsmtFinSF1 after imputation:\",test_data['BsmtFinSF1'].isna().sum())"
   ]
  },
  {
   "cell_type": "code",
   "execution_count": 211,
   "metadata": {},
   "outputs": [
    {
     "name": "stdout",
     "output_type": "stream",
     "text": [
      "Missing vaues in BsmtFinSF2 before imputation: 1\n",
      "Missing vaues in BsmtFinSF2 after imputation: 0\n"
     ]
    }
   ],
   "source": [
    "#fill null values in BsmtFinSF2 with mode i.e 0.0 in test data\n",
    "print(\"Missing vaues in BsmtFinSF2 before imputation:\",test_data['BsmtFinSF2'].isna().sum())\n",
    "test_data['BsmtFinSF2']=test_data['BsmtFinSF2'].fillna(test_data['BsmtFinSF2'].mode()[0])\n",
    "print(\"Missing vaues in BsmtFinSF2 after imputation:\",test_data['BsmtFinSF2'].isna().sum())"
   ]
  },
  {
   "cell_type": "code",
   "execution_count": 212,
   "metadata": {},
   "outputs": [
    {
     "name": "stdout",
     "output_type": "stream",
     "text": [
      "Missing vaues in BsmtUnfSF before imputation: 1\n",
      "Missing vaues in BsmtUnfSF after imputation: 0\n"
     ]
    }
   ],
   "source": [
    "#fill null values in BsmtUnfSF with mean in test data\n",
    "print(\"Missing vaues in BsmtUnfSF before imputation:\",test_data['BsmtUnfSF'].isna().sum())\n",
    "test_data['BsmtUnfSF']=test_data['BsmtUnfSF'].fillna(test_data['BsmtUnfSF'].mean())\n",
    "print(\"Missing vaues in BsmtUnfSF after imputation:\",test_data['BsmtUnfSF'].isna().sum())"
   ]
  },
  {
   "cell_type": "code",
   "execution_count": 213,
   "metadata": {},
   "outputs": [
    {
     "name": "stdout",
     "output_type": "stream",
     "text": [
      "Missing vaues in TotalBsmtSF before imputation: 1\n",
      "Missing vaues in TotalBsmtSF after imputation: 0\n"
     ]
    }
   ],
   "source": [
    "#fill null values in TotalBsmtSF with mean in test data\n",
    "print(\"Missing vaues in TotalBsmtSF before imputation:\",test_data['TotalBsmtSF'].isna().sum())\n",
    "test_data['TotalBsmtSF']=test_data['TotalBsmtSF'].fillna(test_data['TotalBsmtSF'].mean())\n",
    "print(\"Missing vaues in TotalBsmtSF after imputation:\",test_data['TotalBsmtSF'].isna().sum())"
   ]
  },
  {
   "cell_type": "code",
   "execution_count": 214,
   "metadata": {},
   "outputs": [
    {
     "name": "stdout",
     "output_type": "stream",
     "text": [
      "Missing vaues in BsmtFullBath before imputation: 2\n",
      "Missing vaues in BsmtFullBath after imputation: 0\n"
     ]
    }
   ],
   "source": [
    "#fill null values in BsmtFullBath with mode i.e. 0.0 in test data\n",
    "print(\"Missing vaues in BsmtFullBath before imputation:\",test_data['BsmtFullBath'].isna().sum())\n",
    "test_data['BsmtFullBath']=test_data['BsmtFullBath'].fillna(test_data['BsmtFullBath'].mode()[0])\n",
    "print(\"Missing vaues in BsmtFullBath after imputation:\",test_data['BsmtFullBath'].isna().sum())"
   ]
  },
  {
   "cell_type": "code",
   "execution_count": 215,
   "metadata": {},
   "outputs": [
    {
     "name": "stdout",
     "output_type": "stream",
     "text": [
      "Missing vaues in BsmtHalfBath before imputation: 2\n",
      "Missing vaues in BsmtHalfBath after imputation: 0\n"
     ]
    }
   ],
   "source": [
    "#fill null values in BsmtHalfBath with mode i.e. 0.0 in test data\n",
    "print(\"Missing vaues in BsmtHalfBath before imputation:\",test_data['BsmtHalfBath'].isna().sum())\n",
    "test_data['BsmtHalfBath']=test_data['BsmtHalfBath'].fillna(test_data['BsmtHalfBath'].mode()[0])\n",
    "print(\"Missing vaues in BsmtHalfBath after imputation:\",test_data['BsmtHalfBath'].isna().sum())"
   ]
  },
  {
   "cell_type": "code",
   "execution_count": 216,
   "metadata": {},
   "outputs": [
    {
     "name": "stdout",
     "output_type": "stream",
     "text": [
      "Missing vaues in GarageCars before imputation: 1\n",
      "Missing vaues in GarageCars after imputation: 0\n"
     ]
    }
   ],
   "source": [
    "#fill null values in GarageCars i.e. 2.0 in test data\n",
    "print(\"Missing vaues in GarageCars before imputation:\",test_data['GarageCars'].isna().sum())\n",
    "test_data['GarageCars']=test_data['GarageCars'].fillna(test_data['GarageCars'].mode()[0])\n",
    "print(\"Missing vaues in GarageCars after imputation:\",test_data['GarageCars'].isna().sum())"
   ]
  },
  {
   "cell_type": "code",
   "execution_count": 217,
   "metadata": {},
   "outputs": [
    {
     "name": "stdout",
     "output_type": "stream",
     "text": [
      "Missing vaues in GarageArea before imputation: 1\n",
      "Missing vaues in GarageArea after imputation: 0\n"
     ]
    }
   ],
   "source": [
    "#fill null values in GarageArea with mean in test data\n",
    "print(\"Missing vaues in GarageArea before imputation:\",test_data['GarageArea'].isna().sum())\n",
    "test_data['GarageArea']=test_data['GarageArea'].fillna(test_data['GarageArea'].mean())\n",
    "print(\"Missing vaues in GarageArea after imputation:\",test_data['GarageArea'].isna().sum())"
   ]
  },
  {
   "cell_type": "code",
   "execution_count": 218,
   "metadata": {},
   "outputs": [
    {
     "name": "stdout",
     "output_type": "stream",
     "text": [
      "Id               0\n",
      "MSSubClass       0\n",
      "LotFrontage      0\n",
      "LotArea          0\n",
      "OverallQual      0\n",
      "OverallCond      0\n",
      "YearBuilt        0\n",
      "YearRemodAdd     0\n",
      "MasVnrArea       0\n",
      "BsmtFinSF1       0\n",
      "BsmtFinSF2       0\n",
      "BsmtUnfSF        0\n",
      "TotalBsmtSF      0\n",
      "1stFlrSF         0\n",
      "2ndFlrSF         0\n",
      "LowQualFinSF     0\n",
      "GrLivArea        0\n",
      "BsmtFullBath     0\n",
      "BsmtHalfBath     0\n",
      "FullBath         0\n",
      "HalfBath         0\n",
      "BedroomAbvGr     0\n",
      "KitchenAbvGr     0\n",
      "TotRmsAbvGrd     0\n",
      "Fireplaces       0\n",
      "GarageYrBlt      0\n",
      "GarageCars       0\n",
      "GarageArea       0\n",
      "WoodDeckSF       0\n",
      "OpenPorchSF      0\n",
      "EnclosedPorch    0\n",
      "3SsnPorch        0\n",
      "ScreenPorch      0\n",
      "PoolArea         0\n",
      "MiscVal          0\n",
      "MoSold           0\n",
      "YrSold           0\n",
      "SalePrice        0\n",
      "dtype: int64\n",
      "==============\n",
      "Id               0\n",
      "MSSubClass       0\n",
      "LotFrontage      0\n",
      "LotArea          0\n",
      "OverallQual      0\n",
      "OverallCond      0\n",
      "YearBuilt        0\n",
      "YearRemodAdd     0\n",
      "MasVnrArea       0\n",
      "BsmtFinSF1       0\n",
      "BsmtFinSF2       0\n",
      "BsmtUnfSF        0\n",
      "TotalBsmtSF      0\n",
      "1stFlrSF         0\n",
      "2ndFlrSF         0\n",
      "LowQualFinSF     0\n",
      "GrLivArea        0\n",
      "BsmtFullBath     0\n",
      "BsmtHalfBath     0\n",
      "FullBath         0\n",
      "HalfBath         0\n",
      "BedroomAbvGr     0\n",
      "KitchenAbvGr     0\n",
      "TotRmsAbvGrd     0\n",
      "Fireplaces       0\n",
      "GarageYrBlt      0\n",
      "GarageCars       0\n",
      "GarageArea       0\n",
      "WoodDeckSF       0\n",
      "OpenPorchSF      0\n",
      "EnclosedPorch    0\n",
      "3SsnPorch        0\n",
      "ScreenPorch      0\n",
      "PoolArea         0\n",
      "MiscVal          0\n",
      "MoSold           0\n",
      "YrSold           0\n",
      "dtype: int64\n"
     ]
    }
   ],
   "source": [
    "#check null values in train and test data in numerical columns\n",
    "print(train_data.select_dtypes(include=['int','float']).isna().sum())\n",
    "print(\"==============\")\n",
    "print(test_data.select_dtypes(include=['int','float']).isna().sum())"
   ]
  },
  {
   "cell_type": "code",
   "execution_count": 219,
   "metadata": {},
   "outputs": [
    {
     "name": "stdout",
     "output_type": "stream",
     "text": [
      "16\n"
     ]
    },
    {
     "data": {
      "text/plain": [
       "<matplotlib.axes._subplots.AxesSubplot at 0x7f24f9615fd0>"
      ]
     },
     "execution_count": 219,
     "metadata": {},
     "output_type": "execute_result"
    },
    {
     "data": {
      "image/png": "[encoded data removed]",
      "text/plain": [
       "<Figure size 1512x360 with 1 Axes>"
      ]
     },
     "metadata": {
      "needs_background": "light"
     },
     "output_type": "display_data"
    }
   ],
   "source": [
    "#plot total number of null values in categorical columns in train data\n",
    "missing_values_info=train_data.select_dtypes(include=['object']).isna().sum()\n",
    "missing_values_info=missing_values_info[missing_values_info>0]\n",
    "print(len(missing_values_info))\n",
    "plt.figure(figsize=(21,5))\n",
    "sns.barplot(missing_values_info.index.values,missing_values_info)"
   ]
  },
  {
   "cell_type": "code",
   "execution_count": 220,
   "metadata": {},
   "outputs": [
    {
     "name": "stdout",
     "output_type": "stream",
     "text": [
      "22\n"
     ]
    },
    {
     "data": {
      "text/plain": [
       "<matplotlib.axes._subplots.AxesSubplot at 0x7f24f9189090>"
      ]
     },
     "execution_count": 220,
     "metadata": {},
     "output_type": "execute_result"
    },
    {
     "data": {
      "image/png": "[encoded data removed]",
      "text/plain": [
       "<Figure size 2160x360 with 1 Axes>"
      ]
     },
     "metadata": {
      "needs_background": "light"
     },
     "output_type": "display_data"
    }
   ],
   "source": [
    "#plot total number of null values in categorical columns in test data\n",
    "missing_values_info=test_data.select_dtypes(include=['object']).isna().sum()\n",
    "missing_values_info=missing_values_info[missing_values_info>0]\n",
    "print(len(missing_values_info))\n",
    "plt.figure(figsize=(30,5))\n",
    "sns.barplot(missing_values_info.index.values,missing_values_info)"
   ]
  },
  {
   "cell_type": "code",
   "execution_count": 221,
   "metadata": {},
   "outputs": [
    {
     "name": "stdout",
     "output_type": "stream",
     "text": [
      "Train data shape (1460, 76)\n",
      "Test data shape (1459, 75)\n"
     ]
    }
   ],
   "source": [
    "#Alley,PoolQC,Fence and MiscFeature have more than 90% null values and FireplaceQu has around 50% null valuesso we will drop these columns\n",
    "train_data.drop(['Alley','PoolQC','Fence','MiscFeature','FireplaceQu'],axis=1,inplace=True)\n",
    "test_data.drop(['Alley','PoolQC','Fence','MiscFeature','FireplaceQu'],axis=1,inplace=True)\n",
    "print('Train data shape',train_data.shape)\n",
    "print('Test data shape',test_data.shape)"
   ]
  },
  {
   "cell_type": "code",
   "execution_count": 222,
   "metadata": {},
   "outputs": [
    {
     "name": "stdout",
     "output_type": "stream",
     "text": [
      "Null values count 8\n",
      "Unique values count None       864\n",
      "BrkFace    445\n",
      "Stone      128\n",
      "BrkCmn      15\n",
      "Name: MasVnrType, dtype: int64\n"
     ]
    }
   ],
   "source": [
    "#analyse column MasVnrType in train data\n",
    "print(\"Null values count\",train_data['MasVnrType'].isna().sum())\n",
    "print(\"Unique values count\",train_data['MasVnrType'].value_counts())"
   ]
  },
  {
   "cell_type": "code",
   "execution_count": 223,
   "metadata": {},
   "outputs": [
    {
     "name": "stdout",
     "output_type": "stream",
     "text": [
      "Missing vaues in MasVnrType before imputation: 8\n",
      "Missing vaues in MasVnrType after imputation: 0\n"
     ]
    }
   ],
   "source": [
    "#fill MasVnrType with Mode i.e: None\n",
    "print(\"Missing vaues in MasVnrType before imputation:\",train_data['MasVnrType'].isna().sum())\n",
    "train_data['MasVnrType']=train_data['MasVnrType'].fillna(train_data['MasVnrType'].mode()[0])\n",
    "print(\"Missing vaues in MasVnrType after imputation:\",train_data['MasVnrType'].isna().sum())"
   ]
  },
  {
   "cell_type": "code",
   "execution_count": 224,
   "metadata": {},
   "outputs": [
    {
     "name": "stdout",
     "output_type": "stream",
     "text": [
      "Missing vaues in MasVnrType before imputation: 16\n",
      "Missing vaues in MasVnrType after imputation: 0\n"
     ]
    }
   ],
   "source": [
    "print(\"Missing vaues in MasVnrType before imputation:\",test_data['MasVnrType'].isna().sum())\n",
    "test_data['MasVnrType']=test_data['MasVnrType'].fillna(test_data['MasVnrType'].mode()[0])\n",
    "print(\"Missing vaues in MasVnrType after imputation:\",test_data['MasVnrType'].isna().sum())"
   ]
  },
  {
   "cell_type": "code",
   "execution_count": 225,
   "metadata": {},
   "outputs": [
    {
     "data": {
      "text/plain": [
       "<matplotlib.axes._subplots.AxesSubplot at 0x7f24f8f92250>"
      ]
     },
     "execution_count": 225,
     "metadata": {},
     "output_type": "execute_result"
    },
    {
     "data": {
      "image/png": "[encoded data removed]",
      "text/plain": [
       "<Figure size 432x288 with 1 Axes>"
      ]
     },
     "metadata": {
      "needs_background": "light"
     },
     "output_type": "display_data"
    }
   ],
   "source": [
    "sns.swarmplot(train_data['BsmtQual'],train_data['SalePrice'])"
   ]
  },
  {
   "cell_type": "code",
   "execution_count": 226,
   "metadata": {},
   "outputs": [],
   "source": [
    "def correlation_between_cat_columns(column_name):    \n",
    "    cat_cols = [col for col in train_data.select_dtypes(include=object)]\n",
    "\n",
    "    bsmt = []\n",
    "    for i in cat_cols:\n",
    "        for j in cat_cols:\n",
    "            #print(i,j)\n",
    "            score = theils_u(x=train_data[i],y=train_data[j])\n",
    "            if score != 1.0 and i == column_name:\n",
    "                bsmt.append((j,round(score,2)))\n",
    "\n",
    "    correlationDf = {}\n",
    "    def Convert(tup, di): \n",
    "        di = dict(tup) \n",
    "        return di \n",
    " \n",
    "    correlationDf= Convert(bsmt,correlationDf)\n",
    "    correlationdata = pd.DataFrame(correlationDf,index=[column_name])\n",
    "    #print(correlationdata)\n",
    "    print(\"Column {} has highest correlation with {} and correlation value is {}\"\n",
    "          .format(column_name,correlationdata.idxmax(axis=1).values[0],correlationdata.max(axis=1).values[0]))"
   ]
  },
  {
   "cell_type": "code",
   "execution_count": 227,
   "metadata": {},
   "outputs": [
    {
     "name": "stdout",
     "output_type": "stream",
     "text": [
      "Column BsmtQual has highest correlation with Neighborhood and correlation value is 0.42\n"
     ]
    }
   ],
   "source": [
    "correlation_between_cat_columns('BsmtQual')"
   ]
  },
  {
   "cell_type": "markdown",
   "metadata": {},
   "source": [
    "\n",
    "\n",
    "> Based on the analysis above we found out that the BsmtQual is highly correlated with Neighborhood. Hence, we can fill missing values in BsmtQual according to groups of Neighborhood"
   ]
  },
  {
   "cell_type": "code",
   "execution_count": 228,
   "metadata": {
    "scrolled": true
   },
   "outputs": [
    {
     "name": "stdout",
     "output_type": "stream",
     "text": [
      "Missing vaues in BsmtQual before imputation: 37\n",
      "Missing values in BsmtQual after imputation: 0\n"
     ]
    }
   ],
   "source": [
    "print(\"Missing vaues in BsmtQual before imputation:\",train_data['BsmtQual'].isna().sum())\n",
    "#impute by mode according to neighborhood\n",
    "train_data.BsmtQual.fillna(train_data.groupby(['Neighborhood']).transform(lambda x: x.value_counts().idxmax()).BsmtQual, inplace=True)\n",
    "print(\"Missing values in BsmtQual after imputation:\",train_data['BsmtQual'].isna().sum())"
   ]
  },
  {
   "cell_type": "code",
   "execution_count": 229,
   "metadata": {},
   "outputs": [
    {
     "name": "stdout",
     "output_type": "stream",
     "text": [
      "Missing vaues in BsmtQual before imputation: 44\n",
      "Missing values in BsmtQual after imputation: 0\n"
     ]
    }
   ],
   "source": [
    "print(\"Missing vaues in BsmtQual before imputation:\",test_data['BsmtQual'].isna().sum())\n",
    "#impute by mode according to neighborhood\n",
    "test_data.BsmtQual.fillna(test_data.groupby(['Neighborhood']).transform(lambda x: x.value_counts().idxmax()).BsmtQual, inplace=True)\n",
    "print(\"Missing values in BsmtQual after imputation:\",test_data['BsmtQual'].isna().sum())"
   ]
  },
  {
   "cell_type": "code",
   "execution_count": 230,
   "metadata": {},
   "outputs": [
    {
     "name": "stdout",
     "output_type": "stream",
     "text": [
      "Column BsmtFinType1 has highest correlation with Neighborhood and correlation value is 0.18\n"
     ]
    }
   ],
   "source": [
    "correlation_between_cat_columns('BsmtFinType1')"
   ]
  },
  {
   "cell_type": "code",
   "execution_count": 231,
   "metadata": {},
   "outputs": [
    {
     "data": {
      "text/plain": [
       "Unf    430\n",
       "GLQ    418\n",
       "ALQ    220\n",
       "BLQ    148\n",
       "Rec    133\n",
       "LwQ     74\n",
       "Name: BsmtFinType1, dtype: int64"
      ]
     },
     "execution_count": 231,
     "metadata": {},
     "output_type": "execute_result"
    }
   ],
   "source": [
    "train_data['BsmtFinType1'].value_counts()"
   ]
  },
  {
   "cell_type": "code",
   "execution_count": 232,
   "metadata": {},
   "outputs": [
    {
     "data": {
      "text/plain": [
       "Neighborhood\n",
       "Blmngtn    GLQ\n",
       "Blueste    ALQ\n",
       "BrDale     Unf\n",
       "BrkSide    Unf\n",
       "ClearCr    GLQ\n",
       "CollgCr    GLQ\n",
       "Crawfor    Unf\n",
       "Edwards    Unf\n",
       "Gilbert    Unf\n",
       "IDOTRR     Unf\n",
       "MeadowV    GLQ\n",
       "Mitchel    ALQ\n",
       "NAmes      BLQ\n",
       "NPkVill    ALQ\n",
       "NWAmes     ALQ\n",
       "NoRidge    GLQ\n",
       "NridgHt    GLQ\n",
       "OldTown    Unf\n",
       "SWISU      Unf\n",
       "Sawyer     ALQ\n",
       "SawyerW    GLQ\n",
       "Somerst    GLQ\n",
       "StoneBr    GLQ\n",
       "Timber     GLQ\n",
       "Veenker    ALQ\n",
       "Name: BsmtFinType1, dtype: object"
      ]
     },
     "execution_count": 232,
     "metadata": {},
     "output_type": "execute_result"
    }
   ],
   "source": [
    "train_data.groupby(['Neighborhood'])['BsmtFinType1'].apply(lambda x:x.value_counts().idxmax())"
   ]
  },
  {
   "cell_type": "markdown",
   "metadata": {},
   "source": [
    ">Since BsmtFinType1 have small correlation with Neighborhood but each Neighborhood has different mode value of BsmtFinType1 so we will impute null values by mode value accoerding to neighborhood."
   ]
  },
  {
   "cell_type": "code",
   "execution_count": 233,
   "metadata": {},
   "outputs": [
    {
     "name": "stdout",
     "output_type": "stream",
     "text": [
      "Missing vaues in BsmtFinType1 before imputation: 37\n",
      "Missing values in BsmtFinType1 after imputation: 0\n"
     ]
    }
   ],
   "source": [
    "print(\"Missing vaues in BsmtFinType1 before imputation:\",train_data['BsmtFinType1'].isna().sum())\n",
    "#impute by mode according to neighborhood\n",
    "train_data.BsmtFinType1.fillna(train_data.groupby(['Neighborhood']).transform(lambda x: x.value_counts().idxmax()).BsmtFinType1, inplace=True)\n",
    "print(\"Missing values in BsmtFinType1 after imputation:\",train_data['BsmtFinType1'].isna().sum())"
   ]
  },
  {
   "cell_type": "code",
   "execution_count": 234,
   "metadata": {},
   "outputs": [
    {
     "name": "stdout",
     "output_type": "stream",
     "text": [
      "Missing vaues in BsmtFinType1 before imputation: 42\n",
      "Missing values in BsmtFinType1 after imputation: 0\n"
     ]
    }
   ],
   "source": [
    "print(\"Missing vaues in BsmtFinType1 before imputation:\",test_data['BsmtFinType1'].isna().sum())\n",
    "#impute by mode according to neighborhood\n",
    "test_data.BsmtFinType1.fillna(test_data.groupby(['Neighborhood']).transform(lambda x: x.value_counts().idxmax()).BsmtFinType1, inplace=True)\n",
    "print(\"Missing values in BsmtFinType1 after imputation:\",test_data['BsmtFinType1'].isna().sum())"
   ]
  },
  {
   "cell_type": "code",
   "execution_count": 235,
   "metadata": {},
   "outputs": [
    {
     "name": "stdout",
     "output_type": "stream",
     "text": [
      "Column BsmtFinType2 has highest correlation with BsmtCond and correlation value is 0.19\n"
     ]
    }
   ],
   "source": [
    "correlation_between_cat_columns('BsmtFinType2')"
   ]
  },
  {
   "cell_type": "code",
   "execution_count": 236,
   "metadata": {},
   "outputs": [
    {
     "data": {
      "text/plain": [
       "Unf    1256\n",
       "Rec      54\n",
       "LwQ      46\n",
       "BLQ      33\n",
       "ALQ      19\n",
       "GLQ      14\n",
       "Name: BsmtFinType2, dtype: int64"
      ]
     },
     "execution_count": 236,
     "metadata": {},
     "output_type": "execute_result"
    }
   ],
   "source": [
    "train_data['BsmtFinType2'].value_counts()"
   ]
  },
  {
   "cell_type": "code",
   "execution_count": 237,
   "metadata": {},
   "outputs": [
    {
     "data": {
      "text/plain": [
       "BsmtExposure\n",
       "Av    Unf\n",
       "Gd    Unf\n",
       "Mn    Unf\n",
       "No    Unf\n",
       "Name: BsmtFinType2, dtype: object"
      ]
     },
     "execution_count": 237,
     "metadata": {},
     "output_type": "execute_result"
    }
   ],
   "source": [
    "train_data.groupby(['BsmtExposure'])['BsmtFinType2'].apply(lambda x:x.value_counts().idxmax())"
   ]
  },
  {
   "cell_type": "markdown",
   "metadata": {},
   "source": [
    ">As we can see BsmtFinType2 has very less correlation with BsmtExposure and most of the value is Unf so we will replace null values in BsmtFinType2 with Unf."
   ]
  },
  {
   "cell_type": "code",
   "execution_count": 238,
   "metadata": {},
   "outputs": [
    {
     "name": "stdout",
     "output_type": "stream",
     "text": [
      "Missing values in BsmtFinType2 before imputation: 38\n",
      "Missing values in BsmtFinType2 after imputation: 0\n"
     ]
    }
   ],
   "source": [
    "print(\"Missing values in BsmtFinType2 before imputation:\",train_data['BsmtFinType2'].isna().sum())\n",
    "train_data['BsmtFinType2'].fillna(train_data['BsmtFinType2'].mode()[0],inplace=True)\n",
    "print(\"Missing values in BsmtFinType2 after imputation:\",train_data['BsmtFinType2'].isna().sum())"
   ]
  },
  {
   "cell_type": "code",
   "execution_count": 239,
   "metadata": {},
   "outputs": [
    {
     "name": "stdout",
     "output_type": "stream",
     "text": [
      "Missing values in BsmtFinType2 before imputation: 42\n",
      "Missing values in BsmtFinType2 after imputation: 0\n"
     ]
    }
   ],
   "source": [
    "print(\"Missing values in BsmtFinType2 before imputation:\",test_data['BsmtFinType2'].isna().sum())\n",
    "test_data['BsmtFinType2'].fillna(test_data['BsmtFinType2'].mode()[0],inplace=True)\n",
    "print(\"Missing values in BsmtFinType2 after imputation:\",test_data['BsmtFinType2'].isna().sum())"
   ]
  },
  {
   "cell_type": "code",
   "execution_count": 240,
   "metadata": {},
   "outputs": [
    {
     "name": "stdout",
     "output_type": "stream",
     "text": [
      "Column BsmtCond has highest correlation with BsmtExposure and correlation value is 0.28\n"
     ]
    }
   ],
   "source": [
    "#find correlation of BsmtCond with other columns\n",
    "correlation_between_cat_columns('BsmtCond')"
   ]
  },
  {
   "cell_type": "markdown",
   "metadata": {},
   "source": [
    ">Based on the analysis above we found out that the BsmtCond is highly correlated with BaseFinType1. Hence, we can fill missing values in BsmtQual according to BaseFinType1."
   ]
  },
  {
   "cell_type": "code",
   "execution_count": 241,
   "metadata": {},
   "outputs": [
    {
     "name": "stdout",
     "output_type": "stream",
     "text": [
      "Missing vaues in BsmtCond before imputation: 37\n",
      "BsmtFinType1\n",
      "ALQ    TA\n",
      "BLQ    TA\n",
      "GLQ    TA\n",
      "LwQ    TA\n",
      "Rec    TA\n",
      "Unf    TA\n",
      "Name: BsmtCond, dtype: object\n",
      "Missing values in BsmtCond after imputation: 0\n"
     ]
    }
   ],
   "source": [
    "print(\"Missing vaues in BsmtCond before imputation:\",train_data['BsmtCond'].isna().sum())\n",
    "#impute by mode according to BsmtFinType1\n",
    "print(train_data.groupby(['BsmtFinType1'])['BsmtCond'].apply(lambda x: x.value_counts().idxmax()))\n",
    "train_data.BsmtCond.fillna('TA',inplace=True)\n",
    "print(\"Missing values in BsmtCond after imputation:\",train_data['BsmtCond'].isna().sum())"
   ]
  },
  {
   "cell_type": "code",
   "execution_count": 242,
   "metadata": {},
   "outputs": [
    {
     "name": "stdout",
     "output_type": "stream",
     "text": [
      "Missing vaues in BsmtCond before imputation: 45\n",
      "BsmtFinType1\n",
      "ALQ    TA\n",
      "BLQ    TA\n",
      "GLQ    TA\n",
      "LwQ    TA\n",
      "Rec    TA\n",
      "Unf    TA\n",
      "Name: BsmtCond, dtype: object\n",
      "Missing values in BsmtCond after imputation: 0\n"
     ]
    }
   ],
   "source": [
    "print(\"Missing vaues in BsmtCond before imputation:\",test_data['BsmtCond'].isna().sum())\n",
    "#impute by mode according to BsmtFinType1\n",
    "print(test_data.groupby(['BsmtFinType1'])['BsmtCond'].apply(lambda x: x.value_counts().idxmax()))\n",
    "test_data.BsmtCond.fillna('TA',inplace=True)\n",
    "print(\"Missing values in BsmtCond after imputation:\",test_data['BsmtCond'].isna().sum())"
   ]
  },
  {
   "cell_type": "code",
   "execution_count": 243,
   "metadata": {},
   "outputs": [
    {
     "name": "stdout",
     "output_type": "stream",
     "text": [
      "Column BsmtExposure has highest correlation with Neighborhood and correlation value is 0.13\n"
     ]
    }
   ],
   "source": [
    "correlation_between_cat_columns('BsmtExposure')"
   ]
  },
  {
   "cell_type": "code",
   "execution_count": 244,
   "metadata": {},
   "outputs": [
    {
     "data": {
      "text/plain": [
       "No    953\n",
       "Av    221\n",
       "Gd    134\n",
       "Mn    114\n",
       "Name: BsmtExposure, dtype: int64"
      ]
     },
     "execution_count": 244,
     "metadata": {},
     "output_type": "execute_result"
    }
   ],
   "source": [
    "train_data['BsmtExposure'].value_counts()"
   ]
  },
  {
   "cell_type": "code",
   "execution_count": 245,
   "metadata": {},
   "outputs": [
    {
     "data": {
      "text/plain": [
       "Neighborhood\n",
       "Blmngtn    No\n",
       "Blueste    No\n",
       "BrDale     No\n",
       "BrkSide    No\n",
       "ClearCr    Gd\n",
       "CollgCr    No\n",
       "Crawfor    No\n",
       "Edwards    No\n",
       "Gilbert    No\n",
       "IDOTRR     No\n",
       "MeadowV    No\n",
       "Mitchel    No\n",
       "NAmes      No\n",
       "NPkVill    No\n",
       "NWAmes     No\n",
       "NoRidge    No\n",
       "NridgHt    No\n",
       "OldTown    No\n",
       "SWISU      No\n",
       "Sawyer     No\n",
       "SawyerW    No\n",
       "Somerst    No\n",
       "StoneBr    No\n",
       "Timber     Gd\n",
       "Veenker    Gd\n",
       "Name: BsmtExposure, dtype: object"
      ]
     },
     "execution_count": 245,
     "metadata": {},
     "output_type": "execute_result"
    }
   ],
   "source": [
    "train_data.groupby(['Neighborhood'])['BsmtExposure'].apply(lambda x:x.value_counts().idxmax())"
   ]
  },
  {
   "cell_type": "markdown",
   "metadata": {},
   "source": [
    ">Since BsmtExposure has very low correlation with Neighborhood but each neighborhood group has different mode value of BsmtExposure so we will fill null values according to groups in neighborhood"
   ]
  },
  {
   "cell_type": "code",
   "execution_count": 246,
   "metadata": {},
   "outputs": [
    {
     "name": "stdout",
     "output_type": "stream",
     "text": [
      "Missing vaues in BsmtExposure before imputation: 38\n",
      "Missing values in BsmtExposure after imputation: 0\n"
     ]
    }
   ],
   "source": [
    "print(\"Missing vaues in BsmtExposure before imputation:\",train_data['BsmtExposure'].isna().sum())\n",
    "#impute by mode according to neighborhood\n",
    "train_data.BsmtExposure.fillna(train_data.groupby(['Neighborhood']).transform(lambda x: x.value_counts().idxmax()).BsmtExposure, inplace=True)\n",
    "print(\"Missing values in BsmtExposure after imputation:\",train_data['BsmtExposure'].isna().sum())"
   ]
  },
  {
   "cell_type": "code",
   "execution_count": 247,
   "metadata": {},
   "outputs": [
    {
     "name": "stdout",
     "output_type": "stream",
     "text": [
      "Missing vaues in BsmtExposure before imputation: 44\n",
      "Missing values in BsmtExposure after imputation: 0\n"
     ]
    }
   ],
   "source": [
    "print(\"Missing vaues in BsmtExposure before imputation:\",test_data['BsmtExposure'].isna().sum())\n",
    "#impute by mode according to neighborhood\n",
    "test_data.BsmtExposure.fillna(test_data.groupby(['Neighborhood']).transform(lambda x: x.value_counts().idxmax()).BsmtExposure, inplace=True)\n",
    "print(\"Missing values in BsmtExposure after imputation:\",test_data['BsmtExposure'].isna().sum())"
   ]
  },
  {
   "cell_type": "code",
   "execution_count": 248,
   "metadata": {},
   "outputs": [
    {
     "data": {
      "text/plain": [
       "1"
      ]
     },
     "execution_count": 248,
     "metadata": {},
     "output_type": "execute_result"
    }
   ],
   "source": [
    "train_data['Electrical'].isna().sum()"
   ]
  },
  {
   "cell_type": "code",
   "execution_count": 249,
   "metadata": {},
   "outputs": [
    {
     "data": {
      "text/plain": [
       "SBrkr    1334\n",
       "FuseA      94\n",
       "FuseF      27\n",
       "FuseP       3\n",
       "Mix         1\n",
       "Name: Electrical, dtype: int64"
      ]
     },
     "execution_count": 249,
     "metadata": {},
     "output_type": "execute_result"
    }
   ],
   "source": [
    "train_data['Electrical'].value_counts()"
   ]
  },
  {
   "cell_type": "code",
   "execution_count": 250,
   "metadata": {},
   "outputs": [
    {
     "name": "stdout",
     "output_type": "stream",
     "text": [
      "Missing values in Electrical before imputation: 1\n",
      "Missing values in Electrical after imputation: 0\n"
     ]
    }
   ],
   "source": [
    "print(\"Missing values in Electrical before imputation:\",train_data['Electrical'].isna().sum())\n",
    "train_data['Electrical'].fillna(train_data['Electrical'].mode()[0],inplace=True)\n",
    "print(\"Missing values in Electrical after imputation:\",train_data['Electrical'].isna().sum())"
   ]
  },
  {
   "cell_type": "markdown",
   "metadata": {},
   "source": [
    ">Test data has no missing values in Electrical column"
   ]
  },
  {
   "cell_type": "code",
   "execution_count": 251,
   "metadata": {},
   "outputs": [
    {
     "data": {
      "text/plain": [
       "Unf    605\n",
       "RFn    422\n",
       "Fin    352\n",
       "Name: GarageFinish, dtype: int64"
      ]
     },
     "execution_count": 251,
     "metadata": {},
     "output_type": "execute_result"
    }
   ],
   "source": [
    "train_data['GarageFinish'].value_counts()"
   ]
  },
  {
   "cell_type": "code",
   "execution_count": 252,
   "metadata": {},
   "outputs": [
    {
     "name": "stdout",
     "output_type": "stream",
     "text": [
      "Missing vaues in GarageFinish before imputation: 81\n",
      "Missing values in GarageFinish after imputation: 0\n"
     ]
    }
   ],
   "source": [
    "print(\"Missing vaues in GarageFinish before imputation:\",train_data['GarageFinish'].isna().sum())\n",
    "#impute by mode \n",
    "train_data['GarageFinish'].fillna(train_data['GarageFinish'].mode()[0], inplace=True)\n",
    "print(\"Missing values in GarageFinish after imputation:\",train_data['GarageFinish'].isna().sum())"
   ]
  },
  {
   "cell_type": "code",
   "execution_count": 253,
   "metadata": {},
   "outputs": [
    {
     "name": "stdout",
     "output_type": "stream",
     "text": [
      "Missing vaues in GarageFinish before imputation: 78\n",
      "Missing values in GarageFinish after imputation: 0\n"
     ]
    }
   ],
   "source": [
    "print(\"Missing vaues in GarageFinish before imputation:\",test_data['GarageFinish'].isna().sum())\n",
    "#impute by mode\n",
    "test_data['GarageFinish'].fillna(test_data['GarageFinish'].mode()[0], inplace=True)\n",
    "print(\"Missing values in GarageFinish after imputation:\",test_data['GarageFinish'].isna().sum())"
   ]
  },
  {
   "cell_type": "code",
   "execution_count": 254,
   "metadata": {},
   "outputs": [
    {
     "data": {
      "text/plain": [
       "81"
      ]
     },
     "execution_count": 254,
     "metadata": {},
     "output_type": "execute_result"
    }
   ],
   "source": [
    "train_data['GarageType'].isna().sum()"
   ]
  },
  {
   "cell_type": "code",
   "execution_count": 255,
   "metadata": {},
   "outputs": [
    {
     "data": {
      "text/plain": [
       "Attchd     870\n",
       "Detchd     387\n",
       "BuiltIn     88\n",
       "Basment     19\n",
       "CarPort      9\n",
       "2Types       6\n",
       "Name: GarageType, dtype: int64"
      ]
     },
     "execution_count": 255,
     "metadata": {},
     "output_type": "execute_result"
    }
   ],
   "source": [
    "train_data['GarageType'].value_counts()"
   ]
  },
  {
   "cell_type": "code",
   "execution_count": 256,
   "metadata": {},
   "outputs": [
    {
     "name": "stdout",
     "output_type": "stream",
     "text": [
      "Missing vaues in GarageType before imputation: 81\n",
      "Missing values in GarageType after imputation: 0\n"
     ]
    }
   ],
   "source": [
    "print(\"Missing vaues in GarageType before imputation:\",train_data['GarageType'].isna().sum())\n",
    "#impute by mode\n",
    "train_data['GarageType'].fillna(train_data['GarageType'].mode()[0], inplace=True)\n",
    "print(\"Missing values in GarageType after imputation:\",train_data['GarageType'].isna().sum())"
   ]
  },
  {
   "cell_type": "code",
   "execution_count": 257,
   "metadata": {},
   "outputs": [
    {
     "name": "stdout",
     "output_type": "stream",
     "text": [
      "Missing vaues in GarageType before imputation: 76\n",
      "Missing values in GarageType after imputation: 0\n"
     ]
    }
   ],
   "source": [
    "print(\"Missing vaues in GarageType before imputation:\",test_data['GarageType'].isna().sum())\n",
    "#impute by mode\n",
    "test_data['GarageType'].fillna(test_data['GarageType'].mode()[0], inplace=True)\n",
    "print(\"Missing values in GarageType after imputation:\",test_data['GarageType'].isna().sum())"
   ]
  },
  {
   "cell_type": "code",
   "execution_count": 258,
   "metadata": {},
   "outputs": [
    {
     "data": {
      "text/plain": [
       "81"
      ]
     },
     "execution_count": 258,
     "metadata": {},
     "output_type": "execute_result"
    }
   ],
   "source": [
    "train_data['GarageCond'].isna().sum()"
   ]
  },
  {
   "cell_type": "code",
   "execution_count": 259,
   "metadata": {},
   "outputs": [
    {
     "data": {
      "text/plain": [
       "TA    1326\n",
       "Fa      35\n",
       "Gd       9\n",
       "Po       7\n",
       "Ex       2\n",
       "Name: GarageCond, dtype: int64"
      ]
     },
     "execution_count": 259,
     "metadata": {},
     "output_type": "execute_result"
    }
   ],
   "source": [
    "train_data['GarageCond'].value_counts()"
   ]
  },
  {
   "cell_type": "code",
   "execution_count": 260,
   "metadata": {},
   "outputs": [
    {
     "name": "stdout",
     "output_type": "stream",
     "text": [
      "Missing vaues in GarageCond before imputation: 81\n",
      "Missing values in GarageCond after imputation: 0\n"
     ]
    }
   ],
   "source": [
    "print(\"Missing vaues in GarageCond before imputation:\",train_data['GarageCond'].isna().sum())\n",
    "#impute by mode\n",
    "train_data['GarageCond'].fillna(train_data['GarageCond'].mode()[0], inplace=True)\n",
    "print(\"Missing values in GarageCond after imputation:\",train_data['GarageCond'].isna().sum())"
   ]
  },
  {
   "cell_type": "code",
   "execution_count": 261,
   "metadata": {},
   "outputs": [
    {
     "name": "stdout",
     "output_type": "stream",
     "text": [
      "Missing vaues in GarageCond before imputation: 78\n",
      "Missing values in GarageCond after imputation: 0\n"
     ]
    }
   ],
   "source": [
    "print(\"Missing vaues in GarageCond before imputation:\",test_data['GarageCond'].isna().sum())\n",
    "#impute by mode\n",
    "test_data['GarageCond'].fillna(test_data['GarageCond'].mode()[0], inplace=True)\n",
    "print(\"Missing values in GarageCond after imputation:\",test_data['GarageCond'].isna().sum())"
   ]
  },
  {
   "cell_type": "code",
   "execution_count": 262,
   "metadata": {},
   "outputs": [
    {
     "data": {
      "text/plain": [
       "TA    1311\n",
       "Fa      48\n",
       "Gd      14\n",
       "Ex       3\n",
       "Po       3\n",
       "Name: GarageQual, dtype: int64"
      ]
     },
     "execution_count": 262,
     "metadata": {},
     "output_type": "execute_result"
    }
   ],
   "source": [
    "train_data['GarageQual'].value_counts()"
   ]
  },
  {
   "cell_type": "code",
   "execution_count": 263,
   "metadata": {},
   "outputs": [
    {
     "name": "stdout",
     "output_type": "stream",
     "text": [
      "Missing vaues in GarageQual before imputation: 81\n",
      "Missing values in GarageQual after imputation: 0\n"
     ]
    }
   ],
   "source": [
    "print(\"Missing vaues in GarageQual before imputation:\",train_data['GarageQual'].isna().sum())\n",
    "#impute by mode\n",
    "train_data['GarageQual'].fillna(train_data['GarageQual'].mode()[0], inplace=True)\n",
    "print(\"Missing values in GarageQual after imputation:\",train_data['GarageQual'].isna().sum())"
   ]
  },
  {
   "cell_type": "code",
   "execution_count": 264,
   "metadata": {},
   "outputs": [
    {
     "name": "stdout",
     "output_type": "stream",
     "text": [
      "Missing vaues in GarageQual before imputation: 78\n",
      "Missing values in GarageQual after imputation: 0\n"
     ]
    }
   ],
   "source": [
    "print(\"Missing vaues in GarageQual before imputation:\",test_data['GarageQual'].isna().sum())\n",
    "#impute by mode\n",
    "test_data['GarageQual'].fillna(test_data['GarageQual'].mode()[0], inplace=True)\n",
    "print(\"Missing values in GarageQual after imputation:\",test_data['GarageQual'].isna().sum())"
   ]
  },
  {
   "cell_type": "code",
   "execution_count": 265,
   "metadata": {},
   "outputs": [
    {
     "data": {
      "text/plain": [
       "Series([], dtype: int64)"
      ]
     },
     "execution_count": 265,
     "metadata": {},
     "output_type": "execute_result"
    }
   ],
   "source": [
    "#check null columns in train data\n",
    "x=train_data.isna().sum()\n",
    "x=x[x>0]\n",
    "x"
   ]
  },
  {
   "cell_type": "code",
   "execution_count": 266,
   "metadata": {},
   "outputs": [
    {
     "data": {
      "text/plain": [
       "MSZoning       4\n",
       "Utilities      2\n",
       "Exterior1st    1\n",
       "Exterior2nd    1\n",
       "KitchenQual    1\n",
       "Functional     2\n",
       "SaleType       1\n",
       "dtype: int64"
      ]
     },
     "execution_count": 266,
     "metadata": {},
     "output_type": "execute_result"
    }
   ],
   "source": [
    "#check null columns in test data\n",
    "x=test_data.isna().sum()\n",
    "x=x[x>0]\n",
    "x"
   ]
  },
  {
   "cell_type": "code",
   "execution_count": 267,
   "metadata": {},
   "outputs": [
    {
     "data": {
      "text/plain": [
       "RL         1114\n",
       "RM          242\n",
       "FV           74\n",
       "C (all)      15\n",
       "RH           10\n",
       "Name: MSZoning, dtype: int64"
      ]
     },
     "execution_count": 267,
     "metadata": {},
     "output_type": "execute_result"
    }
   ],
   "source": [
    "test_data['MSZoning'].value_counts()"
   ]
  },
  {
   "cell_type": "code",
   "execution_count": 269,
   "metadata": {},
   "outputs": [
    {
     "name": "stdout",
     "output_type": "stream",
     "text": [
      "Missing values in MSZoning before imputation: 4\n",
      "Missing values in MSZoning after imputation: 0\n"
     ]
    }
   ],
   "source": [
    "print(\"Missing values in MSZoning before imputation:\",test_data['MSZoning'].isna().sum())\n",
    "#impute by mode\n",
    "test_data['MSZoning'].fillna(test_data['MSZoning'].mode()[0],inplace=True)\n",
    "print(\"Missing values in MSZoning after imputation:\",test_data['MSZoning'].isna().sum())"
   ]
  },
  {
   "cell_type": "code",
   "execution_count": 270,
   "metadata": {},
   "outputs": [
    {
     "data": {
      "text/plain": [
       "AllPub    1457\n",
       "Name: Utilities, dtype: int64"
      ]
     },
     "execution_count": 270,
     "metadata": {},
     "output_type": "execute_result"
    }
   ],
   "source": [
    "test_data['Utilities'].value_counts()"
   ]
  },
  {
   "cell_type": "code",
   "execution_count": 271,
   "metadata": {},
   "outputs": [
    {
     "name": "stdout",
     "output_type": "stream",
     "text": [
      "Missing values in Utilities before imputation: 2\n",
      "Missing values in Utilities after imputation: 0\n"
     ]
    }
   ],
   "source": [
    "print(\"Missing values in Utilities before imputation:\",test_data['Utilities'].isna().sum())\n",
    "#impute by mode\n",
    "test_data['Utilities'].fillna(test_data['Utilities'].mode()[0],inplace=True)\n",
    "print(\"Missing values in Utilities after imputation:\",test_data['Utilities'].isna().sum())"
   ]
  },
  {
   "cell_type": "code",
   "execution_count": 272,
   "metadata": {},
   "outputs": [
    {
     "data": {
      "text/plain": [
       "VinylSd    510\n",
       "MetalSd    230\n",
       "HdBoard    220\n",
       "Wd Sdng    205\n",
       "Plywood    113\n",
       "CemntBd     65\n",
       "BrkFace     37\n",
       "WdShing     30\n",
       "AsbShng     24\n",
       "Stucco      18\n",
       "BrkComm      4\n",
       "AsphShn      1\n",
       "CBlock       1\n",
       "Name: Exterior1st, dtype: int64"
      ]
     },
     "execution_count": 272,
     "metadata": {},
     "output_type": "execute_result"
    }
   ],
   "source": [
    "test_data['Exterior1st'].value_counts()"
   ]
  },
  {
   "cell_type": "code",
   "execution_count": 273,
   "metadata": {},
   "outputs": [
    {
     "name": "stdout",
     "output_type": "stream",
     "text": [
      "Missing values in Exterior1st before imputation: 1\n",
      "Missing values in Exterior1st after imputation: 0\n"
     ]
    }
   ],
   "source": [
    "print(\"Missing values in Exterior1st before imputation:\",test_data['Exterior1st'].isna().sum())\n",
    "#impute by mode\n",
    "test_data['Exterior1st'].fillna(test_data['Exterior1st'].mode()[0],inplace=True)\n",
    "print(\"Missing values in Exterior1st after imputation:\",test_data['Exterior1st'].isna().sum())"
   ]
  },
  {
   "cell_type": "code",
   "execution_count": 274,
   "metadata": {},
   "outputs": [
    {
     "name": "stdout",
     "output_type": "stream",
     "text": [
      "Missing values in Exterior2nd before imputation: 1\n",
      "Missing values in Exterior2nd after imputation: 0\n"
     ]
    }
   ],
   "source": [
    "print(\"Missing values in Exterior2nd before imputation:\",test_data['Exterior2nd'].isna().sum())\n",
    "#impute by mode\n",
    "test_data['Exterior2nd'].fillna(test_data['Exterior2nd'].mode()[0],inplace=True)\n",
    "print(\"Missing values in Exterior2nd after imputation:\",test_data['Exterior2nd'].isna().sum())"
   ]
  },
  {
   "cell_type": "code",
   "execution_count": 275,
   "metadata": {},
   "outputs": [
    {
     "data": {
      "text/plain": [
       "TA    757\n",
       "Gd    565\n",
       "Ex    105\n",
       "Fa     31\n",
       "Name: KitchenQual, dtype: int64"
      ]
     },
     "execution_count": 275,
     "metadata": {},
     "output_type": "execute_result"
    }
   ],
   "source": [
    "test_data['KitchenQual'].value_counts()"
   ]
  },
  {
   "cell_type": "code",
   "execution_count": null,
   "metadata": {},
   "outputs": [],
   "source": [
    "print(\"Missing values in Exterior2nd before imputation:\",test_data['KitchenQual'].isna().sum())\n",
    "#impute by mode\n",
    "test_data['Exterior2nd'].fillna(test_data['KitchenQual'].mode()[0],inplace=True)\n",
    "print(\"Missing values in KitchenQual after imputation:\",test_data['KitchenQual'].isna().sum())"
   ]
  }
 ],
 "metadata": {
  "kernelspec": {
   "display_name": "Python 3",
   "language": "python",
   "name": "python3"
  },
  "language_info": {
   "codemirror_mode": {
    "name": "ipython",
    "version": 3
   },
   "file_extension": ".py",
   "mimetype": "text/x-python",
   "name": "python",
   "nbconvert_exporter": "python",
   "pygments_lexer": "ipython3",
   "version": "3.7.4"
  }
 },
 "nbformat": 4,
 "nbformat_minor": 2
}
